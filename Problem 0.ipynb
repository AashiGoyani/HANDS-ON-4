{
 "cells": [
  {
   "cell_type": "code",
   "execution_count": 4,
   "id": "b8453c87",
   "metadata": {},
   "outputs": [
    {
     "name": "stdout",
     "output_type": "stream",
     "text": [
      "Result:  5\n"
     ]
    }
   ],
   "source": [
    "def fib(n):\n",
    "    if n == 0:\n",
    "        return 0\n",
    "    if n == 1:\n",
    "        return 1\n",
    "    return fib(n-1) + fib(n-2)\n",
    "\n",
    "# Debugging for fib(5)\n",
    "result = fib(5)\n",
    "print(\"Result: \",result)\n"
   ]
  },
  {
   "cell_type": "markdown",
   "id": "94c155c2",
   "metadata": {},
   "source": [
    "# The Recursive calls for the function fib(5) is:\n",
    "\n",
    "1) fib(5) calls fib(4) + fib(3)\n",
    "2) fib(4) calls fib(3) + fib(2)\n",
    "3) fib(3) calls fib(2) + fib(1)\n",
    "4) fib(2) calls fib(1) + fib(0)\n",
    "5) fib(1) returns 1\n",
    "6) fib(0) returns 0\n",
    "7) fib(2) returns fib(1) + fib(0) with corresponding values 1 + 0 = 1 \n",
    "8) fib(3) returns fib(2) + fib(1) with corresponding values 1 + 1 = 2\n",
    "9) fib(4) returns fib(3) + fib(2) with corresponding values 2 + 1 = 3\n",
    "10) fib(5) returns fib(4) + fib(3) with corresponding values 3 + 2 = 5\n",
    "\n",
    "The function call stack for fib(5) is: \n",
    "fib(5) -> fib(4) -> fib(3) -> fib(2) -> fib(1) -> fib(0)\n",
    "The values will be:\n",
    "5 -> 3 -> 2 -> 1 -> 0"
   ]
  },
  {
   "cell_type": "code",
   "execution_count": null,
   "id": "8024f052",
   "metadata": {},
   "outputs": [],
   "source": []
  },
  {
   "cell_type": "code",
   "execution_count": null,
   "id": "48bd9186",
   "metadata": {},
   "outputs": [],
   "source": []
  }
 ],
 "metadata": {
  "kernelspec": {
   "display_name": "Python 3 (ipykernel)",
   "language": "python",
   "name": "python3"
  },
  "language_info": {
   "codemirror_mode": {
    "name": "ipython",
    "version": 3
   },
   "file_extension": ".py",
   "mimetype": "text/x-python",
   "name": "python",
   "nbconvert_exporter": "python",
   "pygments_lexer": "ipython3",
   "version": "3.11.5"
  }
 },
 "nbformat": 4,
 "nbformat_minor": 5
}
